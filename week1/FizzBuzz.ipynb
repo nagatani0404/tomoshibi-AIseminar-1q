{
  "nbformat": 4,
  "nbformat_minor": 0,
  "metadata": {
    "colab": {
      "provenance": [],
      "toc_visible": true
    },
    "kernelspec": {
      "name": "python3",
      "display_name": "Python 3"
    },
    "language_info": {
      "name": "python"
    }
  },
  "cells": [
    {
      "cell_type": "code",
      "execution_count": 5,
      "metadata": {
        "colab": {
          "base_uri": "https://localhost:8080/"
        },
        "id": "xgEwqq89SKLy",
        "outputId": "ab83e3ce-de9e-41ae-868e-582703f5263d"
      },
      "outputs": [
        {
          "output_type": "stream",
          "name": "stdout",
          "text": [
            "15\n",
            "FizzBuzz\n"
          ]
        }
      ],
      "source": [
        "def fizzbuzz (input):\n",
        "    if input % 3 == 0 and input % 5 == 0:\n",
        "        return ('FizzBuzz')\n",
        "    if input % 3 == 0:\n",
        "        return ('Fizz')\n",
        "    if input % 5 == 0:\n",
        "        return('Buzz')\n",
        "\n",
        "number = int(input())\n",
        "print(fizzbuzz(number))"
      ]
    }
  ]
}